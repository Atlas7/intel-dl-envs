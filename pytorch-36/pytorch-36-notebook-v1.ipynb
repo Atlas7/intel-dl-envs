{
 "cells": [
  {
   "cell_type": "code",
   "execution_count": 1,
   "metadata": {},
   "outputs": [
    {
     "data": {
      "text/plain": [
       "'/home/u4443/repos/intel-dl-envs/pytorch-36'"
      ]
     },
     "execution_count": 1,
     "metadata": {},
     "output_type": "execute_result"
    }
   ],
   "source": [
    "%pwd"
   ]
  },
  {
   "cell_type": "code",
   "execution_count": 2,
   "metadata": {},
   "outputs": [
    {
     "name": "stdout",
     "output_type": "stream",
     "text": [
      "Running on Colfax Cluster Node: c001-n009\n"
     ]
    }
   ],
   "source": [
    "import socket\n",
    "print(\"Running on Colfax Cluster Node: {}\".format(socket.gethostname()))"
   ]
  },
  {
   "cell_type": "code",
   "execution_count": 3,
   "metadata": {},
   "outputs": [
    {
     "name": "stdout",
     "output_type": "stream",
     "text": [
      "\n",
      "-0.6540  0.4907 -0.2616 -0.7433  1.7705 -0.7137 -2.3007\n",
      " 1.0413 -0.9849  0.7384  0.8957  0.6676 -1.0766  0.4814\n",
      " 2.0828  0.0020  0.5654  2.4758  0.3332  1.0488  0.7181\n",
      " 0.2667 -0.8750 -0.0496  0.8016  0.3648  0.3746  0.0992\n",
      " 0.0950 -0.3255  0.8293  1.0916  0.3698  1.5409 -0.5378\n",
      "[torch.FloatTensor of size 5x7]\n",
      "\n",
      "torch.Size([5, 7])\n"
     ]
    }
   ],
   "source": [
    "# test import torch and run some codes\n",
    "import torch\n",
    "a = torch.randn(5, 7)\n",
    "print(a)\n",
    "print(a.size())"
   ]
  },
  {
   "cell_type": "code",
   "execution_count": null,
   "metadata": {
    "collapsed": true
   },
   "outputs": [],
   "source": []
  }
 ],
 "metadata": {
  "kernelspec": {
   "display_name": "Python 3",
   "language": "python",
   "name": "python3"
  },
  "language_info": {
   "codemirror_mode": {
    "name": "ipython",
    "version": 3
   },
   "file_extension": ".py",
   "mimetype": "text/x-python",
   "name": "python",
   "nbconvert_exporter": "python",
   "pygments_lexer": "ipython3",
   "version": "3.6.2"
  }
 },
 "nbformat": 4,
 "nbformat_minor": 2
}
